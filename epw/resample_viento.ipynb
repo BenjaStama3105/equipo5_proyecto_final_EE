{
 "cells": [
  {
   "cell_type": "code",
   "execution_count": 2,
   "id": "db62a9a2",
   "metadata": {},
   "outputs": [],
   "source": [
    "import pandas as pd\n",
    "import matplotlib.pyplot as plt\n",
    "import seaborn as sns\n",
    "import numpy as np"
   ]
  },
  {
   "cell_type": "code",
   "execution_count": 3,
   "id": "529e0e83",
   "metadata": {},
   "outputs": [],
   "source": [
    "data = pd.read_csv(\"C:/Users/benX/OneDrive/Escritorio/proyecto_final_EE/proyectoeq5/epw/viento.csv\")\n",
    "data.time = pd.to_datetime(data.time,format='%d/%m/%Y %H:%M')\n",
    "data.set_index(\"time\",inplace=True)"
   ]
  },
  {
   "cell_type": "code",
   "execution_count": 5,
   "id": "460ea90f",
   "metadata": {},
   "outputs": [
    {
     "data": {
      "text/html": [
       "<div>\n",
       "<style scoped>\n",
       "    .dataframe tbody tr th:only-of-type {\n",
       "        vertical-align: middle;\n",
       "    }\n",
       "\n",
       "    .dataframe tbody tr th {\n",
       "        vertical-align: top;\n",
       "    }\n",
       "\n",
       "    .dataframe thead th {\n",
       "        text-align: right;\n",
       "    }\n",
       "</style>\n",
       "<table border=\"1\" class=\"dataframe\">\n",
       "  <thead>\n",
       "    <tr style=\"text-align: right;\">\n",
       "      <th></th>\n",
       "      <th>Speed</th>\n",
       "      <th>Dir</th>\n",
       "    </tr>\n",
       "    <tr>\n",
       "      <th>time</th>\n",
       "      <th></th>\n",
       "      <th></th>\n",
       "    </tr>\n",
       "  </thead>\n",
       "  <tbody>\n",
       "    <tr>\n",
       "      <th>2019-05-03 00:00:00</th>\n",
       "      <td>2.1151</td>\n",
       "      <td>340.3500</td>\n",
       "    </tr>\n",
       "    <tr>\n",
       "      <th>2019-05-03 00:10:00</th>\n",
       "      <td>1.6093</td>\n",
       "      <td>314.6030</td>\n",
       "    </tr>\n",
       "    <tr>\n",
       "      <th>2019-05-03 00:20:00</th>\n",
       "      <td>1.8725</td>\n",
       "      <td>280.9640</td>\n",
       "    </tr>\n",
       "    <tr>\n",
       "      <th>2019-05-03 00:30:00</th>\n",
       "      <td>1.5021</td>\n",
       "      <td>51.6087</td>\n",
       "    </tr>\n",
       "    <tr>\n",
       "      <th>2019-05-03 00:40:00</th>\n",
       "      <td>1.3980</td>\n",
       "      <td>219.5240</td>\n",
       "    </tr>\n",
       "    <tr>\n",
       "      <th>...</th>\n",
       "      <td>...</td>\n",
       "      <td>...</td>\n",
       "    </tr>\n",
       "    <tr>\n",
       "      <th>2019-06-24 23:20:00</th>\n",
       "      <td>0.9254</td>\n",
       "      <td>226.5900</td>\n",
       "    </tr>\n",
       "    <tr>\n",
       "      <th>2019-06-24 23:30:00</th>\n",
       "      <td>1.4013</td>\n",
       "      <td>223.5000</td>\n",
       "    </tr>\n",
       "    <tr>\n",
       "      <th>2019-06-24 23:40:00</th>\n",
       "      <td>2.3877</td>\n",
       "      <td>194.7400</td>\n",
       "    </tr>\n",
       "    <tr>\n",
       "      <th>2019-06-24 23:50:00</th>\n",
       "      <td>3.4972</td>\n",
       "      <td>145.0600</td>\n",
       "    </tr>\n",
       "    <tr>\n",
       "      <th>2019-06-25 00:00:00</th>\n",
       "      <td>3.1700</td>\n",
       "      <td>141.5000</td>\n",
       "    </tr>\n",
       "  </tbody>\n",
       "</table>\n",
       "<p>7633 rows × 2 columns</p>\n",
       "</div>"
      ],
      "text/plain": [
       "                      Speed       Dir\n",
       "time                                 \n",
       "2019-05-03 00:00:00  2.1151  340.3500\n",
       "2019-05-03 00:10:00  1.6093  314.6030\n",
       "2019-05-03 00:20:00  1.8725  280.9640\n",
       "2019-05-03 00:30:00  1.5021   51.6087\n",
       "2019-05-03 00:40:00  1.3980  219.5240\n",
       "...                     ...       ...\n",
       "2019-06-24 23:20:00  0.9254  226.5900\n",
       "2019-06-24 23:30:00  1.4013  223.5000\n",
       "2019-06-24 23:40:00  2.3877  194.7400\n",
       "2019-06-24 23:50:00  3.4972  145.0600\n",
       "2019-06-25 00:00:00  3.1700  141.5000\n",
       "\n",
       "[7633 rows x 2 columns]"
      ]
     },
     "execution_count": 5,
     "metadata": {},
     "output_type": "execute_result"
    }
   ],
   "source": [
    "d2=data.resample('10min').mean()\n",
    "d2"
   ]
  },
  {
   "cell_type": "code",
   "execution_count": 26,
   "id": "a9d90d21",
   "metadata": {},
   "outputs": [],
   "source": [
    "d2.to_csv('wind.csv')"
   ]
  },
  {
   "cell_type": "code",
   "execution_count": null,
   "id": "d66c87c3",
   "metadata": {},
   "outputs": [],
   "source": []
  },
  {
   "cell_type": "code",
   "execution_count": null,
   "id": "ede3f257",
   "metadata": {},
   "outputs": [],
   "source": []
  },
  {
   "cell_type": "code",
   "execution_count": null,
   "id": "e2e9e0f6",
   "metadata": {},
   "outputs": [],
   "source": []
  }
 ],
 "metadata": {
  "kernelspec": {
   "display_name": "Python 3",
   "language": "python",
   "name": "python3"
  },
  "language_info": {
   "codemirror_mode": {
    "name": "ipython",
    "version": 3
   },
   "file_extension": ".py",
   "mimetype": "text/x-python",
   "name": "python",
   "nbconvert_exporter": "python",
   "pygments_lexer": "ipython3",
   "version": "3.8.8"
  }
 },
 "nbformat": 4,
 "nbformat_minor": 5
}
